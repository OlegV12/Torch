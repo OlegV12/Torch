{
  "cells": [
    {
      "cell_type": "markdown",
      "metadata": {
        "id": "view-in-github",
        "colab_type": "text"
      },
      "source": [
        "<a href=\"https://colab.research.google.com/github/OlegV12/Torch/blob/Lesson_1/HW_1.ipynb\" target=\"_parent\"><img src=\"https://colab.research.google.com/assets/colab-badge.svg\" alt=\"Open In Colab\"/></a>"
      ]
    },
    {
      "cell_type": "code",
      "execution_count": null,
      "metadata": {
        "id": "_CNZn_3CofVO"
      },
      "outputs": [],
      "source": [
        "import torch\n",
        "import numpy as np\n",
        "import random "
      ]
    },
    {
      "cell_type": "code",
      "execution_count": null,
      "metadata": {
        "id": "QGYTKAxeofVR"
      },
      "outputs": [],
      "source": [
        "# 1. Создайте случайный FloatTensor размера 3x4x5\n",
        "a = torch.rand(3, 4, 5)"
      ]
    },
    {
      "cell_type": "code",
      "source": [
        "print(a)\n",
        "print(a.type())"
      ],
      "metadata": {
        "colab": {
          "base_uri": "https://localhost:8080/"
        },
        "id": "jhw4TqNlOQex",
        "outputId": "1ad00969-41dd-4a0b-aeee-4a99caf98aac"
      },
      "execution_count": null,
      "outputs": [
        {
          "output_type": "stream",
          "name": "stdout",
          "text": [
            "tensor([[[0.3992, 0.2727, 0.0166, 0.9941, 0.4015],\n",
            "         [0.6634, 0.7044, 0.6727, 0.4089, 0.1513],\n",
            "         [0.9545, 0.5833, 0.0740, 0.9268, 0.6763],\n",
            "         [0.7809, 0.6702, 0.4909, 0.8576, 0.6878]],\n",
            "\n",
            "        [[0.8757, 0.6399, 0.2518, 0.7236, 0.8118],\n",
            "         [0.6138, 0.8829, 0.4717, 0.4356, 0.8682],\n",
            "         [0.3711, 0.6121, 0.1832, 0.3632, 0.0253],\n",
            "         [0.7043, 0.1042, 0.4615, 0.1322, 0.2577]],\n",
            "\n",
            "        [[0.7436, 0.4750, 0.3196, 0.2182, 0.3502],\n",
            "         [0.5274, 0.3406, 0.4774, 0.3974, 0.0637],\n",
            "         [0.0831, 0.7042, 0.9833, 0.2699, 0.2002],\n",
            "         [0.5989, 0.1113, 0.0669, 0.7013, 0.1510]]])\n",
            "torch.FloatTensor\n"
          ]
        }
      ]
    },
    {
      "cell_type": "code",
      "execution_count": null,
      "metadata": {
        "id": "7GV_q8DdofVV",
        "colab": {
          "base_uri": "https://localhost:8080/"
        },
        "outputId": "72b36cef-e9b8-4c1a-8645-57125a99f10f"
      },
      "outputs": [
        {
          "output_type": "execute_result",
          "data": {
            "text/plain": [
              "torch.Size([3, 4, 5])"
            ]
          },
          "metadata": {},
          "execution_count": 4
        }
      ],
      "source": [
        "# 2. Выведите его форму (shape)\n",
        "a.shape"
      ]
    },
    {
      "cell_type": "code",
      "execution_count": null,
      "metadata": {
        "id": "f1OTy65FofVX",
        "colab": {
          "base_uri": "https://localhost:8080/"
        },
        "outputId": "45a3d865-04b2-4e4f-b46c-8c5da2eaa87d"
      },
      "outputs": [
        {
          "output_type": "stream",
          "name": "stdout",
          "text": [
            "tensor([[0.3992, 0.2727, 0.0166, 0.9941, 0.4015, 0.6634, 0.7044, 0.6727, 0.4089,\n",
            "         0.1513],\n",
            "        [0.9545, 0.5833, 0.0740, 0.9268, 0.6763, 0.7809, 0.6702, 0.4909, 0.8576,\n",
            "         0.6878],\n",
            "        [0.8757, 0.6399, 0.2518, 0.7236, 0.8118, 0.6138, 0.8829, 0.4717, 0.4356,\n",
            "         0.8682],\n",
            "        [0.3711, 0.6121, 0.1832, 0.3632, 0.0253, 0.7043, 0.1042, 0.4615, 0.1322,\n",
            "         0.2577],\n",
            "        [0.7436, 0.4750, 0.3196, 0.2182, 0.3502, 0.5274, 0.3406, 0.4774, 0.3974,\n",
            "         0.0637],\n",
            "        [0.0831, 0.7042, 0.9833, 0.2699, 0.2002, 0.5989, 0.1113, 0.0669, 0.7013,\n",
            "         0.1510]])\n"
          ]
        },
        {
          "output_type": "execute_result",
          "data": {
            "text/plain": [
              "torch.Size([6, 10])"
            ]
          },
          "metadata": {},
          "execution_count": 5
        }
      ],
      "source": [
        "# 3. Приведите его к форме 6х10\n",
        "a = a.reshape(6, 10)\n",
        "print(a)\n",
        "a.size()"
      ]
    },
    {
      "cell_type": "code",
      "execution_count": null,
      "metadata": {
        "id": "BEVOv9_TofVe",
        "colab": {
          "base_uri": "https://localhost:8080/"
        },
        "outputId": "1d56343e-b04d-4cd2-9c74-73db8c681c46"
      },
      "outputs": [
        {
          "output_type": "execute_result",
          "data": {
            "text/plain": [
              "tensor([3, 6, 3, 0, 5, 8, 7, 3, 2, 2])"
            ]
          },
          "metadata": {},
          "execution_count": 6
        }
      ],
      "source": [
        "# 4. Создайте случайный IntTensor размера 10\n",
        "b = torch.randint(0, 9, size=(10,))\n",
        "b"
      ]
    },
    {
      "cell_type": "code",
      "source": [
        "# 5. Умножьте созданный FloatTensor на созданный IntTensor поэлементно\n",
        "d = a * b\n",
        "d"
      ],
      "metadata": {
        "id": "TAX3DUiSa07K",
        "colab": {
          "base_uri": "https://localhost:8080/"
        },
        "outputId": "315874bf-6ea1-452c-fc7a-053d1d74f32c"
      },
      "execution_count": null,
      "outputs": [
        {
          "output_type": "execute_result",
          "data": {
            "text/plain": [
              "tensor([[1.1975, 1.6364, 0.0498, 0.0000, 2.0073, 5.3070, 4.9308, 2.0181, 0.8178,\n",
              "         0.3025],\n",
              "        [2.8636, 3.4998, 0.2219, 0.0000, 3.3816, 6.2475, 4.6912, 1.4726, 1.7153,\n",
              "         1.3756],\n",
              "        [2.6271, 3.8393, 0.7555, 0.0000, 4.0588, 4.9104, 6.1804, 1.4152, 0.8712,\n",
              "         1.7364],\n",
              "        [1.1133, 3.6724, 0.5496, 0.0000, 0.1265, 5.6346, 0.7293, 1.3845, 0.2645,\n",
              "         0.5155],\n",
              "        [2.2309, 2.8503, 0.9589, 0.0000, 1.7509, 4.2194, 2.3844, 1.4321, 0.7948,\n",
              "         0.1274],\n",
              "        [0.2492, 4.2251, 2.9498, 0.0000, 1.0010, 4.7911, 0.7789, 0.2007, 1.4026,\n",
              "         0.3021]])"
            ]
          },
          "metadata": {},
          "execution_count": 7
        }
      ]
    },
    {
      "cell_type": "code",
      "execution_count": null,
      "metadata": {
        "id": "eUxdWlQZofVi",
        "colab": {
          "base_uri": "https://localhost:8080/"
        },
        "outputId": "2bf48fb2-4a6c-43f2-d7af-230ed67dee9e"
      },
      "outputs": [
        {
          "output_type": "execute_result",
          "data": {
            "text/plain": [
              "tensor([[ 65.4544,  77.0336,  78.2415,  44.2894,  48.6263,  40.2790],\n",
              "        [ 77.0336,  99.9757, 100.4912,  58.4155,  63.6914,  56.2433],\n",
              "        [ 78.2415, 100.4912, 106.7729,  53.2129,  63.0304,  53.5375],\n",
              "        [ 44.2894,  58.4155,  53.2129,  49.5774,  41.4719,  45.9101],\n",
              "        [ 48.6263,  63.6914,  63.0304,  41.4719,  43.2736,  40.6932],\n",
              "        [ 40.2790,  56.2433,  53.5375,  45.9101,  40.6932,  53.2766]])"
            ]
          },
          "metadata": {},
          "execution_count": 8
        }
      ],
      "source": [
        "# 6. Умножьте тензор матрично на себя, чтобы результат был размерности 6x6\n",
        "# Подсказка: .dot может не подойти\n",
        "d @ d.T"
      ]
    },
    {
      "cell_type": "code",
      "execution_count": null,
      "metadata": {
        "id": "u3V6CsNkofVj",
        "colab": {
          "base_uri": "https://localhost:8080/"
        },
        "outputId": "c7ab79e2-7ec4-4b3f-c3a5-f9ba07b64a84"
      },
      "outputs": [
        {
          "output_type": "execute_result",
          "data": {
            "text/plain": [
              "tensor([ 3.0000,  0.3750, 24.0000])"
            ]
          },
          "metadata": {},
          "execution_count": 9
        }
      ],
      "source": [
        "# 7. Посчитайте производную функции y = x**3 + z - 75t в точке (1, 0.5, 2)\n",
        "x = torch.tensor((1, 0.5, 2), requires_grad=True)\n",
        "\n",
        "y = x**3\n",
        "\n",
        "y.backward(x)\n",
        "x.grad"
      ]
    },
    {
      "cell_type": "code",
      "execution_count": null,
      "metadata": {
        "id": "FzH6QkyxofVm",
        "colab": {
          "base_uri": "https://localhost:8080/"
        },
        "outputId": "edc29881-a430-4694-f757-562ce2a47d1b"
      },
      "outputs": [
        {
          "output_type": "execute_result",
          "data": {
            "text/plain": [
              "tensor([[1., 1., 1., 1., 1., 1.],\n",
              "        [1., 1., 1., 1., 1., 1.],\n",
              "        [1., 1., 1., 1., 1., 1.],\n",
              "        [1., 1., 1., 1., 1., 1.],\n",
              "        [1., 1., 1., 1., 1., 1.]])"
            ]
          },
          "metadata": {},
          "execution_count": 10
        }
      ],
      "source": [
        "# 8. Создайте единичный тензор размера 5x6\n",
        "ones = torch.ones((5, 6))\n",
        "ones"
      ]
    },
    {
      "cell_type": "code",
      "execution_count": null,
      "metadata": {
        "id": "z49ttvWPofVo",
        "colab": {
          "base_uri": "https://localhost:8080/"
        },
        "outputId": "21315546-b2a7-41e7-dec9-086f0cad0de8"
      },
      "outputs": [
        {
          "output_type": "execute_result",
          "data": {
            "text/plain": [
              "array([[1., 1., 1., 1., 1., 1.],\n",
              "       [1., 1., 1., 1., 1., 1.],\n",
              "       [1., 1., 1., 1., 1., 1.],\n",
              "       [1., 1., 1., 1., 1., 1.],\n",
              "       [1., 1., 1., 1., 1., 1.]], dtype=float32)"
            ]
          },
          "metadata": {},
          "execution_count": 11
        }
      ],
      "source": [
        "# 9. Переведите его в формат numpy\n",
        "ones = np.array(ones)\n",
        "ones"
      ]
    }
  ],
  "metadata": {
    "kernelspec": {
      "display_name": "Python 3",
      "language": "python",
      "name": "python3"
    },
    "language_info": {
      "codemirror_mode": {
        "name": "ipython",
        "version": 3
      },
      "file_extension": ".py",
      "mimetype": "text/x-python",
      "name": "python",
      "nbconvert_exporter": "python",
      "pygments_lexer": "ipython3",
      "version": "3.7.4"
    },
    "colab": {
      "name": "HW_1.ipynb",
      "provenance": [],
      "collapsed_sections": [],
      "include_colab_link": true
    }
  },
  "nbformat": 4,
  "nbformat_minor": 0
}